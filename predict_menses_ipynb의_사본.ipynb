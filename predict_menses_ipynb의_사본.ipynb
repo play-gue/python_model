{
  "nbformat": 4,
  "nbformat_minor": 0,
  "metadata": {
    "colab": {
      "provenance": []
    },
    "kernelspec": {
      "name": "python3",
      "display_name": "Python 3"
    },
    "language_info": {
      "name": "python"
    }
  },
  "cells": [
    {
      "cell_type": "code",
      "source": [
        "#생리주기를 하나만 입력받는 버전\n",
        "from datetime import datetime, timedelta\n",
        "\n",
        "# 사용자로부터 시작일을 입력받음\n",
        "start = input('생리 시작일을 입력해주세요 (YYYY-MM-DD 형식): ')\n",
        "end = input('생리 종료일을 입력해주세요 (YYYY-MM-DD 형식): ')\n",
        "period = int(input('생리 기간을 입력해주세요 (-1을 입력하면 28일로 계산됩니다.): '))\n",
        "\n",
        "# 입력받은 시작일과 종료일을 날짜로 변환\n",
        "start_date = datetime.strptime(start, '%Y-%m-%d')\n",
        "end_date = datetime.strptime(end, '%Y-%m-%d')\n",
        "\n",
        "# 예상 배란일 계산 (14일 후)\n",
        "ovu_day = start_date + timedelta(days=14)\n",
        "\n",
        "# 만약 달이 넘어간 경우 해당 월의 일수로 다시 계산\n",
        "if ovu_day.month != start_date.month:\n",
        "    last_day_of_month = datetime(ovu_day.year, ovu_day.month + 1, 1) - timedelta(days=1)\n",
        "    ovu_day = last_day_of_month if last_day_of_month.day < 14 else datetime(ovu_day.year, ovu_day.month, 14)\n",
        "\n",
        "# 예상 배란일 앞뒤 2일 계산\n",
        "ovu_day_minus_2 = ovu_day - timedelta(days=2)\n",
        "ovu_day_plus_2 = ovu_day + timedelta(days=2)\n",
        "\n",
        "# 만약 기간이 -1로 입력된 경우 28일로 계산\n",
        "if period == -1:\n",
        "    period = 28\n",
        "\n",
        "# 다음 생리 시작일 계산\n",
        "next_day = end_date + timedelta(days=period)\n",
        "\n",
        "# 만약 달이 넘어간 경우 해당 월의 일수로 다시 계산\n",
        "if next_day.month != end_date.month:\n",
        "    last_day_of_month = datetime(next_day.year, next_day.month + 1, 1) - timedelta(days=1)\n",
        "    next_day = last_day_of_month if last_day_of_month.day < period else datetime(next_day.year, next_day.month, period)\n",
        "\n",
        "# 결과 출력\n",
        "\n",
        "print('예상 배란일:', ovu_day.strftime('%Y-%m-%d'))\n",
        "print('가임기 시작일:', ovu_day_minus_2.strftime('%Y-%m-%d'))\n",
        "print('가임기 끝나는 날:', ovu_day_plus_2.strftime('%Y-%m-%d'))\n",
        "print('다음 생리 시작일:', next_day.strftime('%Y-%m-%d'))"
      ],
      "metadata": {
        "colab": {
          "base_uri": "https://localhost:8080/"
        },
        "id": "KhRwk7WlNINB",
        "outputId": "4163afcc-d6ed-4eb4-a25f-e66b2cd78d41"
      },
      "execution_count": null,
      "outputs": [
        {
          "output_type": "stream",
          "name": "stdout",
          "text": [
            "생리 시작일을 입력해주세요 (YYYY-MM-DD 형식): 2023-5-6\n",
            "생리 종료일을 입력해주세요 (YYYY-MM-DD 형식): 2023-5-13\n",
            "생리 기간을 입력해주세요 (-1을 입력하면 28일로 계산됩니다.): -1\n",
            "예상 배란일: 2023-05-20\n",
            "가임기 시작일: 2023-05-18\n",
            "가임기 끝나는 날: 2023-05-22\n",
            "다음 생리 시작일: 2023-06-28\n"
          ]
        }
      ]
    },
    {
      "cell_type": "code",
      "source": [
        "#생리주기 최대 6개까지 계산 가능\n",
        "from datetime import datetime, timedelta\n",
        "\n",
        "# 사용자로부터 시작일을 입력받음\n",
        "start = input('생리 시작일을 입력해주세요 (YYYY-MM-DD 형식): ')\n",
        "\n",
        "# 입력받은 시작일을 날짜로 변환\n",
        "start_date = datetime.strptime(start, '%Y-%m-%d')\n",
        "\n",
        "# period 리스트 초기화\n",
        "period = []\n",
        "\n",
        "# 최대 6개의 생리 기간을 입력받음\n",
        "for i in range(6):\n",
        "    period_str = input(f'생리 기간 {i+1}을 입력해주세요 (-1을 입력하면 종료): ')\n",
        "    if period_str == '-1':\n",
        "        break\n",
        "    period.append(int(period_str))\n",
        "\n",
        "# period 리스트에 저장된 기간들의 평균 계산\n",
        "total_days = sum(period)\n",
        "average_days = total_days / len(period)\n",
        "\n",
        "# 예상 배란일 계산 (14일 후)\n",
        "ovu_day = start_date + timedelta(days=14)\n",
        "\n",
        "# 만약 달이 넘어간 경우 해당 월의 일수로 다시 계산\n",
        "if ovu_day.month != start_date.month:\n",
        "    last_day_of_month = datetime(ovu_day.year, ovu_day.month + 1, 1) - timedelta(days=1)\n",
        "    ovu_day = last_day_of_month if last_day_of_month.day < 14 else datetime(ovu_day.year, ovu_day.month, 14)\n",
        "\n",
        "# 예상 배란일 앞뒤 2일 계산\n",
        "ovu_day_minus_2 = ovu_day - timedelta(days=2)\n",
        "ovu_day_plus_2 = ovu_day + timedelta(days=2)\n",
        "\n",
        "# 다음 생리 시작일 계산 (end_date + period)\n",
        "end_date = start_date + timedelta(days=int(total_days)) # end_date 계산\n",
        "next_day = end_date + timedelta(days=period[-1]) # 다음 생리 시작일 계산\n",
        "\n",
        "# 결과 출력\n",
        "print('입력한 생리 기간:', period)\n",
        "print('평균 생리 기간 (버림):', int(average_days))\n",
        "print('예상 배란일:', ovu_day.strftime('%Y-%m-%d'))\n",
        "print('가임기 시작일:', ovu_day_minus_2.strftime('%Y-%m-%d'))\n",
        "print('가임기 끝나는 날:', ovu_day_plus_2.strftime('%Y-%m-%d'))\n",
        "print('다음 생리 시작일:', next_day.strftime('%Y-%m-%d'))\n",
        "\n",
        "#성 관련 보고서\n",
        "print('\\n')\n",
        "print(\"이번주 성 관련 보고서입니다.\")\n",
        "print(\"현재 생리 2일차입니다. 복통이 예상됩니다.\")\n",
        "print(\"입력하신 **질병에 관한 정보는 ~입니다\")\n",
        "print(\"~~음식을 추천합니다\")\n",
        "print(\"예상되는 pms는 ~~입니다\")"
      ],
      "metadata": {
        "colab": {
          "base_uri": "https://localhost:8080/"
        },
        "id": "jvuRMAvYztBW",
        "outputId": "3253e2fb-7fd0-4fa8-d278-6ccc2cb78188"
      },
      "execution_count": null,
      "outputs": [
        {
          "output_type": "stream",
          "name": "stdout",
          "text": [
            "생리 시작일을 입력해주세요 (YYYY-MM-DD 형식): 2023-12-25\n",
            "생리 기간 1을 입력해주세요 (-1을 입력하면 종료): 20\n",
            "생리 기간 2을 입력해주세요 (-1을 입력하면 종료): 19\n",
            "생리 기간 3을 입력해주세요 (-1을 입력하면 종료): 18\n",
            "생리 기간 4을 입력해주세요 (-1을 입력하면 종료): 49\n",
            "생리 기간 5을 입력해주세요 (-1을 입력하면 종료): 21\n",
            "생리 기간 6을 입력해주세요 (-1을 입력하면 종료): 21\n",
            "입력한 생리 기간: [20, 19, 18, 49, 21, 21]\n",
            "평균 생리 기간 (버림): 24\n",
            "예상 배란일: 2024-01-14\n",
            "가임기 시작일: 2024-01-12\n",
            "가임기 끝나는 날: 2024-01-16\n",
            "다음 생리 시작일: 2024-06-11\n"
          ]
        }
      ]
    },
    {
      "cell_type": "code",
      "source": [
        "from datetime import datetime, timedelta\n",
        "import numpy as np\n",
        "\n",
        "def predict_periods(input_periods):\n",
        "    period_lengths = []  # 생리 기간을 저장할 리스트\n",
        "    cycle_lengths = []   # 생리 주기를 저장할 리스트\n",
        "\n",
        "    periods = input_periods.split(\", \")\n",
        "    prev_end_date = None  # 이전 생리 종료일 초기화\n",
        "\n",
        "    for period in periods:\n",
        "        start, end = period.split(\"~\")\n",
        "        start_date = datetime.strptime(start, \"%Y.%m.%d\")\n",
        "        end_date = datetime.strptime(end, \"%Y.%m.%d\")\n",
        "\n",
        "        # 생리 기간 계산\n",
        "        period_length = (end_date - start_date).days\n",
        "        period_lengths.append(period_length)\n",
        "\n",
        "        # 생리 주기 계산 (첫 번째 기간 제외)\n",
        "        if prev_end_date:\n",
        "            cycle_length = (start_date - prev_end_date).days\n",
        "            cycle_lengths.append(cycle_length)\n",
        "\n",
        "        prev_end_date = end_date\n",
        "\n",
        "    # 생리 기간 및 생리 주기의 평균 계산\n",
        "    average_period_length = int(np.mean(period_lengths))\n",
        "    average_cycle_length = int(np.mean(cycle_lengths) if cycle_lengths else average_period_length)\n",
        "\n",
        "    # 오늘 날짜 기준으로 다음 12개의 생리 주기 예상\n",
        "    today = datetime.now()\n",
        "    predicted_periods = []\n",
        "    for i in range(12):\n",
        "        next_start_date = today + timedelta(days=average_cycle_length * i)\n",
        "        next_end_date = next_start_date + timedelta(days=average_period_length)\n",
        "        predicted_periods.append(f'{next_start_date.strftime(\"%Y.%m.%d\")}~{next_end_date.strftime(\"%Y.%m.%d\")}')\n",
        "\n",
        "    return period_lengths, cycle_lengths, predicted_periods\n",
        "\n",
        "# 사용 예시\n",
        "input_periods = \"2023.06.13~2023.06.18, 2023.07.13~2023.07.17, 2023.08.14~2023.08.19, 2023.09.14~2023.09.19, 2023.10.15~2023.10.21, 2023.11.16~2023.11.22, 2023.12.21~2023.12.25\"\n",
        "period_lengths, cycle_lengths, predicted_periods = predict_periods(input_periods)\n",
        "\n",
        "# 결과 출력\n",
        "print(\"생리 기간들:\", period_lengths)\n",
        "print(\"생리 주기들:\", cycle_lengths)\n",
        "print(\"\\n예상되는 다음 12개 생리 주기:\")\n",
        "for period in predicted_periods:\n",
        "    print(period)"
      ],
      "metadata": {
        "colab": {
          "base_uri": "https://localhost:8080/"
        },
        "id": "YOqohzZPkKIp",
        "outputId": "0dd60ef5-04eb-4e91-a6d1-d85e0aef6e3e"
      },
      "execution_count": null,
      "outputs": [
        {
          "output_type": "stream",
          "name": "stdout",
          "text": [
            "생리 기간들: [5, 4, 5, 5, 6, 6, 4]\n",
            "생리 주기들: [25, 28, 26, 26, 26, 29]\n",
            "\n",
            "예상되는 다음 12개 생리 주기:\n",
            "2023.12.29~2024.01.03\n",
            "2024.01.24~2024.01.29\n",
            "2024.02.19~2024.02.24\n",
            "2024.03.16~2024.03.21\n",
            "2024.04.11~2024.04.16\n",
            "2024.05.07~2024.05.12\n",
            "2024.06.02~2024.06.07\n",
            "2024.06.28~2024.07.03\n",
            "2024.07.24~2024.07.29\n",
            "2024.08.19~2024.08.24\n",
            "2024.09.14~2024.09.19\n",
            "2024.10.10~2024.10.15\n"
          ]
        }
      ]
    }
  ]
}